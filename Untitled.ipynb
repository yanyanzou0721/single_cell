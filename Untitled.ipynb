{
 "cells": [
  {
   "cell_type": "code",
   "execution_count": 1,
   "metadata": {},
   "outputs": [],
   "source": [
    "import os\n",
    "from os.path import join, exists\n",
    "import gzip\n",
    "import sys\n",
    "from sys import stderr\n",
    "from io import TextIOWrapper\n",
    "\n",
    "import gzip\n",
    "import click\n",
    "from Bio import SeqIO"
   ]
  },
  {
   "cell_type": "code",
   "execution_count": 2,
   "metadata": {},
   "outputs": [],
   "source": [
    "def open_(fname, mode):\n",
    "    \"\"\" open file according to it's suffix \"\"\"\n",
    "    assert 'b' not in mode\n",
    "    if fname.endswith(\".gz\"):\n",
    "        if sys.version_info > (3, 0, 0):\n",
    "            return TextIOWrapper(gzip.open(fname, mode+'b'))\n",
    "        else:\n",
    "            return gzip.open(fname, mode+'b')\n",
    "    else:\n",
    "        return open(fname, mode)"
   ]
  },
  {
   "cell_type": "code",
   "execution_count": 3,
   "metadata": {},
   "outputs": [],
   "source": [
    "def fastq_iter(file_in, phred):\n",
    "    \"\"\" return a fastq iterator \"\"\"\n",
    "    if str(phred) == '33':\n",
    "        fastq_iter = SeqIO.parse(file_in, 'fastq')\n",
    "    else:\n",
    "        fastq_iter = SeqIO.parse(file_in, 'fastq-illumina')\n",
    "    return fastq_iter"
   ]
  },
  {
   "cell_type": "code",
   "execution_count": 4,
   "metadata": {},
   "outputs": [],
   "source": [
    "def fastq_writer(file_out, phred):\n",
    "    \"\"\" return a fastq writer \"\"\"\n",
    "    if str(phred) == '33':\n",
    "        writer = SeqIO.QualityIO.FastqPhredWriter(file_out)\n",
    "    else:\n",
    "        writer = SeqIO.QualityIO.FastqIlluminaWriter(file_out)\n",
    "    return writer"
   ]
  },
  {
   "cell_type": "code",
   "execution_count": 5,
   "metadata": {},
   "outputs": [],
   "source": [
    "def extract_barcode(id_str):\n",
    "    \"\"\" extract barcode from fastq id string \"\"\"\n",
    "    barcode_str = (id_str.split(\"=\")[1]).split(\" \")[0]\n",
    "    return barcode_str"
   ]
  },
  {
   "cell_type": "code",
   "execution_count": 6,
   "metadata": {},
   "outputs": [],
   "source": [
    "def process_all(input_fq, phred):\n",
    "    with open_(input_fq, 'r') as f:\n",
    "        fq_iter = fastq_iter(f, phred)\n",
    "        for rec in fq_iter:\n",
    "            barcode = extract_barcode(rec.description)\n",
    "            barcode.writer.write_record(rec)"
   ]
  },
  {
   "cell_type": "code",
   "execution_count": 7,
   "metadata": {},
   "outputs": [],
   "source": [
    "raw = open_(\"test.fastq.gz\",'r')"
   ]
  },
  {
   "cell_type": "code",
   "execution_count": 8,
   "metadata": {},
   "outputs": [],
   "source": [
    "fq_iter = fastq_iter(raw,33)"
   ]
  },
  {
   "cell_type": "code",
   "execution_count": 10,
   "metadata": {},
   "outputs": [
    {
     "data": {
      "text/plain": [
       "SeqRecord(seq=Seq('TAGTGACGAAAAATAACAATACAGGACTCTTTCGAGGCCCTGTAATTGGAATGA...AAA', SingleLetterAlphabet()), id='SRR7792641.1', name='SRR7792641.1', description='SRR7792641.1 NS500640:93:HFGLJBGXY:1:11101:26453:1055_0_barcode=NA-EEEE-AAAA###-########-GCTG-GTCANNN-NNNNNNNN length=66', dbxrefs=[])"
      ]
     },
     "execution_count": 10,
     "metadata": {},
     "output_type": "execute_result"
    }
   ],
   "source": [
    "next(fq_iter)"
   ]
  },
  {
   "cell_type": "code",
   "execution_count": 12,
   "metadata": {},
   "outputs": [
    {
     "data": {
      "text/plain": [
       "'NA-/EEE-/AA/###-########-GCTG-GATANNN-NNNNNNNN'"
      ]
     },
     "execution_count": 12,
     "metadata": {},
     "output_type": "execute_result"
    }
   ],
   "source": [
    "extract_barcode(next(fq_iter).description)"
   ]
  },
  {
   "cell_type": "code",
   "execution_count": 18,
   "metadata": {},
   "outputs": [
    {
     "ename": "SyntaxError",
     "evalue": "invalid syntax (<ipython-input-18-de297b621c1c>, line 1)",
     "output_type": "error",
     "traceback": [
      "\u001b[1;36m  File \u001b[1;32m\"<ipython-input-18-de297b621c1c>\"\u001b[1;36m, line \u001b[1;32m1\u001b[0m\n\u001b[1;33m    next(fq_iter)_record\u001b[0m\n\u001b[1;37m                       ^\u001b[0m\n\u001b[1;31mSyntaxError\u001b[0m\u001b[1;31m:\u001b[0m invalid syntax\n"
     ]
    }
   ],
   "source": []
  },
  {
   "cell_type": "code",
   "execution_count": 2,
   "metadata": {},
   "outputs": [
    {
     "data": {
      "text/plain": [
       "'/aa'"
      ]
     },
     "execution_count": 2,
     "metadata": {},
     "output_type": "execute_result"
    }
   ],
   "source": [
    "l='/aa'\n",
    "l.replace('8','*')"
   ]
  },
  {
   "cell_type": "code",
   "execution_count": null,
   "metadata": {},
   "outputs": [],
   "source": []
  }
 ],
 "metadata": {
  "kernelspec": {
   "display_name": "Python 3",
   "language": "python",
   "name": "python3"
  },
  "language_info": {
   "codemirror_mode": {
    "name": "ipython",
    "version": 3
   },
   "file_extension": ".py",
   "mimetype": "text/x-python",
   "name": "python",
   "nbconvert_exporter": "python",
   "pygments_lexer": "ipython3",
   "version": "3.6.5"
  }
 },
 "nbformat": 4,
 "nbformat_minor": 2
}
